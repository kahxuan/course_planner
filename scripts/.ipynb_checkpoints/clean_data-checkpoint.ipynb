{
 "cells": [
  {
   "cell_type": "markdown",
   "metadata": {},
   "source": [
    "# Clean data scrapped from Monash handbook\n",
    "\n",
    "The cleaned data will be the input to the course planner for Monash University Malaysia undergraduate computer science students."
   ]
  },
  {
   "cell_type": "code",
   "execution_count": 44,
   "metadata": {},
   "outputs": [],
   "source": [
    "import pandas as pd\n",
    "import re\n",
    "import os\n",
    "import sys\n",
    "sys.path.append('..')\n",
    "from config import data_dir, chrome_driver_dir"
   ]
  },
  {
   "cell_type": "markdown",
   "metadata": {},
   "source": [
    "The raw data contains details on all FIT units (and two MAT units) offered by Monash University."
   ]
  },
  {
   "cell_type": "code",
   "execution_count": 45,
   "metadata": {
    "scrolled": false
   },
   "outputs": [
    {
     "data": {
      "text/html": [
       "<div>\n",
       "<style scoped>\n",
       "    .dataframe tbody tr th:only-of-type {\n",
       "        vertical-align: middle;\n",
       "    }\n",
       "\n",
       "    .dataframe tbody tr th {\n",
       "        vertical-align: top;\n",
       "    }\n",
       "\n",
       "    .dataframe thead th {\n",
       "        text-align: right;\n",
       "    }\n",
       "</style>\n",
       "<table border=\"1\" class=\"dataframe\">\n",
       "  <thead>\n",
       "    <tr style=\"text-align: right;\">\n",
       "      <th></th>\n",
       "      <th>code</th>\n",
       "      <th>name</th>\n",
       "      <th>offers</th>\n",
       "      <th>rule</th>\n",
       "      <th>credit_points</th>\n",
       "    </tr>\n",
       "  </thead>\n",
       "  <tbody>\n",
       "    <tr>\n",
       "      <th>0</th>\n",
       "      <td>FIT2032</td>\n",
       "      <td>Industry-based learning</td>\n",
       "      <td>[{'location': 'Clayton', 'period': 'First seme...</td>\n",
       "      <td>Prerequisite:\\nAvailable to students in all un...</td>\n",
       "      <td>18</td>\n",
       "    </tr>\n",
       "    <tr>\n",
       "      <th>1</th>\n",
       "      <td>FIT1046</td>\n",
       "      <td>Interactive media foundations</td>\n",
       "      <td>[{'location': 'Clayton', 'period': 'Second sem...</td>\n",
       "      <td></td>\n",
       "      <td>6</td>\n",
       "    </tr>\n",
       "    <tr>\n",
       "      <th>2</th>\n",
       "      <td>FIT1045</td>\n",
       "      <td>Algorithms and programming fundamentals in python</td>\n",
       "      <td>[{'location': 'Malaysia', 'period': 'October i...</td>\n",
       "      <td>Prerequisite: VCE Mathematics Methods or Speci...</td>\n",
       "      <td>6</td>\n",
       "    </tr>\n",
       "    <tr>\n",
       "      <th>3</th>\n",
       "      <td>FIT1033</td>\n",
       "      <td>Foundations of 3D</td>\n",
       "      <td>[{'location': 'Clayton', 'period': 'First seme...</td>\n",
       "      <td>Prohibition: FIT2015, DIS1911</td>\n",
       "      <td>6</td>\n",
       "    </tr>\n",
       "    <tr>\n",
       "      <th>4</th>\n",
       "      <td>FIT1047</td>\n",
       "      <td>Introduction to computer systems, networks and...</td>\n",
       "      <td>[{'location': 'Malaysia', 'period': 'October i...</td>\n",
       "      <td>Prohibitions: FIT1031 and FIT2078</td>\n",
       "      <td>6</td>\n",
       "    </tr>\n",
       "  </tbody>\n",
       "</table>\n",
       "</div>"
      ],
      "text/plain": [
       "      code                                               name  \\\n",
       "0  FIT2032                            Industry-based learning   \n",
       "1  FIT1046                      Interactive media foundations   \n",
       "2  FIT1045  Algorithms and programming fundamentals in python   \n",
       "3  FIT1033                                  Foundations of 3D   \n",
       "4  FIT1047  Introduction to computer systems, networks and...   \n",
       "\n",
       "                                              offers  \\\n",
       "0  [{'location': 'Clayton', 'period': 'First seme...   \n",
       "1  [{'location': 'Clayton', 'period': 'Second sem...   \n",
       "2  [{'location': 'Malaysia', 'period': 'October i...   \n",
       "3  [{'location': 'Clayton', 'period': 'First seme...   \n",
       "4  [{'location': 'Malaysia', 'period': 'October i...   \n",
       "\n",
       "                                                rule  credit_points  \n",
       "0  Prerequisite:\\nAvailable to students in all un...             18  \n",
       "1                                                                 6  \n",
       "2  Prerequisite: VCE Mathematics Methods or Speci...              6  \n",
       "3                      Prohibition: FIT2015, DIS1911              6  \n",
       "4                  Prohibitions: FIT1031 and FIT2078              6  "
      ]
     },
     "execution_count": 45,
     "metadata": {},
     "output_type": "execute_result"
    }
   ],
   "source": [
    "unit = pd.read_json(os.path.join(data_dir, 'fit_unit.json'))\n",
    "unit.head()"
   ]
  },
  {
   "cell_type": "markdown",
   "metadata": {},
   "source": [
    "## Unit offerings"
   ]
  },
  {
   "cell_type": "markdown",
   "metadata": {},
   "source": [
    "Separate offering details from `unit` to another dataframe."
   ]
  },
  {
   "cell_type": "code",
   "execution_count": 46,
   "metadata": {},
   "outputs": [
    {
     "data": {
      "text/html": [
       "<div>\n",
       "<style scoped>\n",
       "    .dataframe tbody tr th:only-of-type {\n",
       "        vertical-align: middle;\n",
       "    }\n",
       "\n",
       "    .dataframe tbody tr th {\n",
       "        vertical-align: top;\n",
       "    }\n",
       "\n",
       "    .dataframe thead th {\n",
       "        text-align: right;\n",
       "    }\n",
       "</style>\n",
       "<table border=\"1\" class=\"dataframe\">\n",
       "  <thead>\n",
       "    <tr style=\"text-align: right;\">\n",
       "      <th></th>\n",
       "      <th>location</th>\n",
       "      <th>period</th>\n",
       "      <th>mode</th>\n",
       "      <th>code</th>\n",
       "    </tr>\n",
       "  </thead>\n",
       "  <tbody>\n",
       "    <tr>\n",
       "      <th>0</th>\n",
       "      <td>Clayton</td>\n",
       "      <td>First semester</td>\n",
       "      <td>On-campus</td>\n",
       "      <td>FIT2032</td>\n",
       "    </tr>\n",
       "    <tr>\n",
       "      <th>1</th>\n",
       "      <td>Clayton</td>\n",
       "      <td>Second semester</td>\n",
       "      <td>On-campus</td>\n",
       "      <td>FIT2032</td>\n",
       "    </tr>\n",
       "    <tr>\n",
       "      <th>2</th>\n",
       "      <td>Clayton</td>\n",
       "      <td>Second semester</td>\n",
       "      <td>On-campus</td>\n",
       "      <td>FIT1046</td>\n",
       "    </tr>\n",
       "    <tr>\n",
       "      <th>3</th>\n",
       "      <td>Malaysia</td>\n",
       "      <td>October intake</td>\n",
       "      <td>On-campus</td>\n",
       "      <td>FIT1045</td>\n",
       "    </tr>\n",
       "    <tr>\n",
       "      <th>4</th>\n",
       "      <td>Clayton</td>\n",
       "      <td>First semester</td>\n",
       "      <td>On-campus</td>\n",
       "      <td>FIT1045</td>\n",
       "    </tr>\n",
       "  </tbody>\n",
       "</table>\n",
       "</div>"
      ],
      "text/plain": [
       "   location           period       mode     code\n",
       "0   Clayton   First semester  On-campus  FIT2032\n",
       "1   Clayton  Second semester  On-campus  FIT2032\n",
       "2   Clayton  Second semester  On-campus  FIT1046\n",
       "3  Malaysia   October intake  On-campus  FIT1045\n",
       "4   Clayton   First semester  On-campus  FIT1045"
      ]
     },
     "execution_count": 46,
     "metadata": {},
     "output_type": "execute_result"
    }
   ],
   "source": [
    "offers = []\n",
    "\n",
    "for i in range(len(unit)):\n",
    "    offer = pd.json_normalize(unit.offers[i])\n",
    "    offer['code'] = unit.code[i]\n",
    "    offers.append(offer)\n",
    "    \n",
    "offering = pd.concat(offers).reset_index(drop=True)\n",
    "unit = unit.drop('offers', axis=1)\n",
    "offering.head()"
   ]
  },
  {
   "cell_type": "code",
   "execution_count": 47,
   "metadata": {},
   "outputs": [
    {
     "data": {
      "text/plain": [
       "array(['First semester', 'Second semester', 'October intake',\n",
       "       'First semester (Fully flex)', 'Summer semester A',\n",
       "       'Full year (Fully flex)', 'Summer semester B', 'Full year'],\n",
       "      dtype=object)"
      ]
     },
     "execution_count": 47,
     "metadata": {},
     "output_type": "execute_result"
    }
   ],
   "source": [
    "offering['period'].unique()"
   ]
  },
  {
   "cell_type": "markdown",
   "metadata": {},
   "source": [
    "Clean `offering.period`:\n",
    "* Remove extra description\n",
    "* Break down unit offerings labelled as 'Full year' into 'First sesmter' & 'Second semester'"
   ]
  },
  {
   "cell_type": "code",
   "execution_count": 48,
   "metadata": {},
   "outputs": [
    {
     "data": {
      "text/html": [
       "<div>\n",
       "<style scoped>\n",
       "    .dataframe tbody tr th:only-of-type {\n",
       "        vertical-align: middle;\n",
       "    }\n",
       "\n",
       "    .dataframe tbody tr th {\n",
       "        vertical-align: top;\n",
       "    }\n",
       "\n",
       "    .dataframe thead th {\n",
       "        text-align: right;\n",
       "    }\n",
       "</style>\n",
       "<table border=\"1\" class=\"dataframe\">\n",
       "  <thead>\n",
       "    <tr style=\"text-align: right;\">\n",
       "      <th></th>\n",
       "      <th>location</th>\n",
       "      <th>period</th>\n",
       "      <th>mode</th>\n",
       "      <th>code</th>\n",
       "    </tr>\n",
       "  </thead>\n",
       "  <tbody>\n",
       "    <tr>\n",
       "      <th>0</th>\n",
       "      <td>Clayton</td>\n",
       "      <td>First semester</td>\n",
       "      <td>On-campus</td>\n",
       "      <td>FIT2032</td>\n",
       "    </tr>\n",
       "    <tr>\n",
       "      <th>1</th>\n",
       "      <td>Clayton</td>\n",
       "      <td>Second semester</td>\n",
       "      <td>On-campus</td>\n",
       "      <td>FIT2032</td>\n",
       "    </tr>\n",
       "    <tr>\n",
       "      <th>2</th>\n",
       "      <td>Clayton</td>\n",
       "      <td>Second semester</td>\n",
       "      <td>On-campus</td>\n",
       "      <td>FIT1046</td>\n",
       "    </tr>\n",
       "    <tr>\n",
       "      <th>3</th>\n",
       "      <td>Malaysia</td>\n",
       "      <td>October intake</td>\n",
       "      <td>On-campus</td>\n",
       "      <td>FIT1045</td>\n",
       "    </tr>\n",
       "    <tr>\n",
       "      <th>4</th>\n",
       "      <td>Clayton</td>\n",
       "      <td>First semester</td>\n",
       "      <td>On-campus</td>\n",
       "      <td>FIT1045</td>\n",
       "    </tr>\n",
       "  </tbody>\n",
       "</table>\n",
       "</div>"
      ],
      "text/plain": [
       "   location           period       mode     code\n",
       "0   Clayton   First semester  On-campus  FIT2032\n",
       "1   Clayton  Second semester  On-campus  FIT2032\n",
       "2   Clayton  Second semester  On-campus  FIT1046\n",
       "3  Malaysia   October intake  On-campus  FIT1045\n",
       "4   Clayton   First semester  On-campus  FIT1045"
      ]
     },
     "execution_count": 48,
     "metadata": {},
     "output_type": "execute_result"
    }
   ],
   "source": [
    "offering.loc[offering['period'] == 'First semester (Fully flex)', 'period'] = 'First semester'\n",
    "offering.loc[offering['period'] == 'Second semester (Fully flex)', 'period'] = 'Second semester'\n",
    "\n",
    "s1 = offering[(offering['period'] == 'Full year')|(offering['period'] == 'Full year (Fully flex)')].copy()\n",
    "s2 = s1.copy()\n",
    "s1['period'] = 'First semester'\n",
    "s2['period'] = 'Second semester'\n",
    "offering = offering.append(s1)\n",
    "offering = offering.append(s2)\n",
    "offering = offering[offering['period'] != 'Full year']\n",
    "\n",
    "offering.head()"
   ]
  },
  {
   "cell_type": "markdown",
   "metadata": {},
   "source": [
    "Since only the data for undergraduate units in Malaysia campus is required, filter `offering` by location, and remove rows that are honours units (FIT4xxx).\n",
    "\n",
    "Some modifications are made:\n",
    "* FIT3164 & FIT3163 (Data Science project 1 & 2) is added into unit offerings so that it is possible to complete a data science major in Malaysia campus.\n",
    "* Remove FIT3045 & FIT3199 (Industry work experience) as this can be completed during summer semester."
   ]
  },
  {
   "cell_type": "code",
   "execution_count": 49,
   "metadata": {},
   "outputs": [
    {
     "data": {
      "text/html": [
       "<div>\n",
       "<style scoped>\n",
       "    .dataframe tbody tr th:only-of-type {\n",
       "        vertical-align: middle;\n",
       "    }\n",
       "\n",
       "    .dataframe tbody tr th {\n",
       "        vertical-align: top;\n",
       "    }\n",
       "\n",
       "    .dataframe thead th {\n",
       "        text-align: right;\n",
       "    }\n",
       "</style>\n",
       "<table border=\"1\" class=\"dataframe\">\n",
       "  <thead>\n",
       "    <tr style=\"text-align: right;\">\n",
       "      <th></th>\n",
       "      <th>location</th>\n",
       "      <th>period</th>\n",
       "      <th>mode</th>\n",
       "      <th>code</th>\n",
       "    </tr>\n",
       "  </thead>\n",
       "  <tbody>\n",
       "    <tr>\n",
       "      <th>3</th>\n",
       "      <td>Malaysia</td>\n",
       "      <td>October intake</td>\n",
       "      <td>On-campus</td>\n",
       "      <td>FIT1045</td>\n",
       "    </tr>\n",
       "    <tr>\n",
       "      <th>5</th>\n",
       "      <td>Malaysia</td>\n",
       "      <td>First semester</td>\n",
       "      <td>On-campus</td>\n",
       "      <td>FIT1045</td>\n",
       "    </tr>\n",
       "    <tr>\n",
       "      <th>8</th>\n",
       "      <td>Malaysia</td>\n",
       "      <td>Second semester</td>\n",
       "      <td>On-campus</td>\n",
       "      <td>FIT1045</td>\n",
       "    </tr>\n",
       "    <tr>\n",
       "      <th>11</th>\n",
       "      <td>Malaysia</td>\n",
       "      <td>October intake</td>\n",
       "      <td>On-campus</td>\n",
       "      <td>FIT1047</td>\n",
       "    </tr>\n",
       "    <tr>\n",
       "      <th>13</th>\n",
       "      <td>Malaysia</td>\n",
       "      <td>First semester</td>\n",
       "      <td>On-campus</td>\n",
       "      <td>FIT1047</td>\n",
       "    </tr>\n",
       "  </tbody>\n",
       "</table>\n",
       "</div>"
      ],
      "text/plain": [
       "    location           period       mode     code\n",
       "3   Malaysia   October intake  On-campus  FIT1045\n",
       "5   Malaysia   First semester  On-campus  FIT1045\n",
       "8   Malaysia  Second semester  On-campus  FIT1045\n",
       "11  Malaysia   October intake  On-campus  FIT1047\n",
       "13  Malaysia   First semester  On-campus  FIT1047"
      ]
     },
     "execution_count": 49,
     "metadata": {},
     "output_type": "execute_result"
    }
   ],
   "source": [
    "ds_project = offering[((offering['code'] == 'FIT3164') | \n",
    "                       (offering['code'] == 'FIT3163')) & \n",
    "                      (offering['mode'] == 'On-campus')].copy()\n",
    "ds_project['location'] = 'Malaysia'\n",
    "offering = offering.append(ds_project)\n",
    "\n",
    "offering_msia = offering[offering['location']=='Malaysia']\n",
    "offering_msia = offering_msia[~offering_msia['code'].str.contains('^FIT4', regex=True)]\n",
    "offering_msia = offering_msia[(offering_msia['code'] != 'FIT3045') & (offering_msia['code'] != 'FIT3199')]\n",
    "\n",
    "offering_msia.head()"
   ]
  },
  {
   "cell_type": "markdown",
   "metadata": {},
   "source": [
    "Save `offering_msia` (excluding `mode`) as csv file."
   ]
  },
  {
   "cell_type": "code",
   "execution_count": 50,
   "metadata": {},
   "outputs": [],
   "source": [
    "offering_msia.drop(\n",
    "    ['mode', 'location'], axis=1).to_csv(os.path.join(data_dir, 'offering_msia.csv'), index=False)"
   ]
  },
  {
   "cell_type": "markdown",
   "metadata": {},
   "source": [
    "## Unit details"
   ]
  },
  {
   "cell_type": "markdown",
   "metadata": {},
   "source": [
    "Obtain the units that are offered in Malaysia campus for at least one teaching period."
   ]
  },
  {
   "cell_type": "code",
   "execution_count": 51,
   "metadata": {
    "scrolled": true
   },
   "outputs": [
    {
     "data": {
      "text/html": [
       "<div>\n",
       "<style scoped>\n",
       "    .dataframe tbody tr th:only-of-type {\n",
       "        vertical-align: middle;\n",
       "    }\n",
       "\n",
       "    .dataframe tbody tr th {\n",
       "        vertical-align: top;\n",
       "    }\n",
       "\n",
       "    .dataframe thead th {\n",
       "        text-align: right;\n",
       "    }\n",
       "</style>\n",
       "<table border=\"1\" class=\"dataframe\">\n",
       "  <thead>\n",
       "    <tr style=\"text-align: right;\">\n",
       "      <th></th>\n",
       "      <th>code</th>\n",
       "      <th>name</th>\n",
       "      <th>rule</th>\n",
       "      <th>credit_points</th>\n",
       "    </tr>\n",
       "  </thead>\n",
       "  <tbody>\n",
       "    <tr>\n",
       "      <th>0</th>\n",
       "      <td>FIT1008</td>\n",
       "      <td>Introduction to computer science</td>\n",
       "      <td>Prerequisites: ((One of FIT1040, ECE2071, FIT1...</td>\n",
       "      <td>6</td>\n",
       "    </tr>\n",
       "    <tr>\n",
       "      <th>1</th>\n",
       "      <td>FIT1043</td>\n",
       "      <td>Introduction to data science</td>\n",
       "      <td>Prerequisite: Or VCE Mathematics Methods Or Sp...</td>\n",
       "      <td>6</td>\n",
       "    </tr>\n",
       "    <tr>\n",
       "      <th>2</th>\n",
       "      <td>FIT1045</td>\n",
       "      <td>Algorithms and programming fundamentals in python</td>\n",
       "      <td>Prerequisite: VCE Mathematics Methods or Speci...</td>\n",
       "      <td>6</td>\n",
       "    </tr>\n",
       "    <tr>\n",
       "      <th>3</th>\n",
       "      <td>FIT1047</td>\n",
       "      <td>Introduction to computer systems, networks and...</td>\n",
       "      <td>Prohibitions: FIT1031 and FIT2078</td>\n",
       "      <td>6</td>\n",
       "    </tr>\n",
       "    <tr>\n",
       "      <th>4</th>\n",
       "      <td>FIT1051</td>\n",
       "      <td>Programming fundamentals in java</td>\n",
       "      <td>Prohibition: FIT1002</td>\n",
       "      <td>6</td>\n",
       "    </tr>\n",
       "  </tbody>\n",
       "</table>\n",
       "</div>"
      ],
      "text/plain": [
       "      code                                               name  \\\n",
       "0  FIT1008                   Introduction to computer science   \n",
       "1  FIT1043                       Introduction to data science   \n",
       "2  FIT1045  Algorithms and programming fundamentals in python   \n",
       "3  FIT1047  Introduction to computer systems, networks and...   \n",
       "4  FIT1051                   Programming fundamentals in java   \n",
       "\n",
       "                                                rule  credit_points  \n",
       "0  Prerequisites: ((One of FIT1040, ECE2071, FIT1...              6  \n",
       "1  Prerequisite: Or VCE Mathematics Methods Or Sp...              6  \n",
       "2  Prerequisite: VCE Mathematics Methods or Speci...              6  \n",
       "3                  Prohibitions: FIT1031 and FIT2078              6  \n",
       "4                               Prohibition: FIT1002              6  "
      ]
     },
     "execution_count": 51,
     "metadata": {},
     "output_type": "execute_result"
    }
   ],
   "source": [
    "unit_msia = unit.merge(offering_msia, on=\"code\", how='inner')\n",
    "unit_msia = unit_msia.groupby('code').first().reset_index().drop(['location', 'period', 'mode'], axis=1)\n",
    "unit_msia = unit_msia.reset_index(drop=True)\n",
    "unit_msia.head()"
   ]
  },
  {
   "cell_type": "markdown",
   "metadata": {},
   "source": [
    "### Prerequisite units"
   ]
  },
  {
   "cell_type": "markdown",
   "metadata": {},
   "source": [
    "Get the substrings containg prerequisite information."
   ]
  },
  {
   "cell_type": "code",
   "execution_count": 52,
   "metadata": {
    "scrolled": true
   },
   "outputs": [
    {
     "data": {
      "text/plain": [
       "0    s: ((One of FIT1040, ECE2071, FIT1002) and FIT...\n",
       "1    : Or VCE Mathematics Methods Or Specialist Mat...\n",
       "2    : VCE Mathematics Methods or Specialist Mathem...\n",
       "3                                                 None\n",
       "4                                                 None\n",
       "Name: 0, dtype: object"
      ]
     },
     "execution_count": 52,
     "metadata": {},
     "output_type": "execute_result"
    }
   ],
   "source": [
    "prereq = unit_msia.rule.str.split('Prerequisite', expand=True)\n",
    "# prereq = prereq[1] + prereq[2].fillna('')\n",
    "# prereq = prereq.str.split('Prohibition', expand=True)[0]\n",
    "prereq = prereq[1].str.split('Prohibition', expand=True)[0]\n",
    "prereq.head()"
   ]
  },
  {
   "cell_type": "markdown",
   "metadata": {},
   "source": [
    "Observe the that these prerequisite options are invalid because each of them involves a unit that is not offered in Malaysia, so they can be removed from the string."
   ]
  },
  {
   "cell_type": "code",
   "execution_count": 53,
   "metadata": {
    "scrolled": true
   },
   "outputs": [
    {
     "data": {
      "text/plain": [
       "0     [(, ((One of FIT1040, ECE2071, FIT1002) and FI...\n",
       "7                        [(or (FIT1040 and FIT1029), )]\n",
       "12                       [(, (ENG1003 and ENG1060) or)]\n",
       "20    [(or (FIT2001 and (FIT2004 or FIT2024 or FIT20...\n",
       "Name: 0, dtype: object"
      ]
     },
     "execution_count": 53,
     "metadata": {},
     "output_type": "execute_result"
    }
   ],
   "source": [
    "tmp = prereq.str.findall('(or \\(.*\\))|(\\(.*\\) or)')\n",
    "tmp = tmp[~pd.isna(tmp)]\n",
    "tmp[tmp.map(len) > 0]"
   ]
  },
  {
   "cell_type": "code",
   "execution_count": 54,
   "metadata": {},
   "outputs": [],
   "source": [
    "prereq = prereq.replace(to_replace='(or \\(.*\\))|(\\(.*\\) or)', value='', regex=True)"
   ]
  },
  {
   "cell_type": "markdown",
   "metadata": {},
   "source": [
    "Write a regex to identify groups of unit, i.e., at least one unit from each group must be completed to satisfy the prequiresite requirement."
   ]
  },
  {
   "cell_type": "code",
   "execution_count": 55,
   "metadata": {},
   "outputs": [
    {
     "data": {
      "text/plain": [
       "'(ne of((,)|[A-Z]|[0-9]| |(or))+[A-Z]{3}[0-9]{4})|(([A-Z]{3}[0-9]{4}, )*[A-Z]{3}[0-9]{4} \\\\(?or [A-Z]{3}[0-9]{4})|([A-Z]{3}[0-9]{4})'"
      ]
     },
     "execution_count": 55,
     "metadata": {},
     "output_type": "execute_result"
    }
   ],
   "source": [
    "code = \"[A-Z]{3}[0-9]{4}\"\n",
    "regex = [\"(ne of((,)|[A-Z]|[0-9]| |(or))+{})\".format(code), \n",
    "         \"(({}, )*{} \\(?or {})\".format(code, code, code),\n",
    "         \"({})\".format(code)]\n",
    "regex = '|'.join(regex)\n",
    "regex"
   ]
  },
  {
   "cell_type": "markdown",
   "metadata": {},
   "source": [
    "Extract the unit code within the groups of unit. `prereq` now is a series of nested list, e.g., `[[FIT1047, FIT1031], [FIT1045, FIT1048, FIT1050]]` represents (one of FIT1047, FIT1031) and (one of FIT1045, FIT1048, FIT1050)."
   ]
  },
  {
   "cell_type": "code",
   "execution_count": 56,
   "metadata": {},
   "outputs": [
    {
     "data": {
      "text/plain": [
       "0    [[FIT1045, FIT1053]]\n",
       "1                      []\n",
       "2                      []\n",
       "3                      []\n",
       "4                      []\n",
       "Name: 0, dtype: object"
      ]
     },
     "execution_count": 56,
     "metadata": {},
     "output_type": "execute_result"
    }
   ],
   "source": [
    "prereq = prereq.str.findall(regex)\n",
    "prereq = prereq.fillna(\"\")\n",
    "\n",
    "for i in range(len(prereq)):\n",
    "    match = prereq[i]\n",
    "    prereq[i] = [None] * len(prereq[i])\n",
    "    for j, item in enumerate(match):\n",
    "        prereq[i][j] = re.findall(code, ''.join(item))\n",
    "\n",
    "prereq.head()"
   ]
  },
  {
   "cell_type": "markdown",
   "metadata": {},
   "source": [
    "### Required credit point & prohibition units"
   ]
  },
  {
   "cell_type": "markdown",
   "metadata": {},
   "source": [
    "Identify the credit point required as part of the prerequisite, if this is not mentioned in the original string, the credit point required is 0."
   ]
  },
  {
   "cell_type": "code",
   "execution_count": 57,
   "metadata": {},
   "outputs": [],
   "source": [
    "req_point = unit_msia['rule'].str.findall('([0-9]+ (credit )?point)')\n",
    "req_point = req_point.astype(str)\n",
    "req_point = req_point.str.extract(\"([0-9]+)\")\n",
    "req_point = req_point.fillna('0')"
   ]
  },
  {
   "cell_type": "markdown",
   "metadata": {},
   "source": [
    "Get the substrings containing describing the prohibitions, then extract the unit code from the substrings."
   ]
  },
  {
   "cell_type": "code",
   "execution_count": 58,
   "metadata": {},
   "outputs": [
    {
     "data": {
      "text/plain": [
       "0    [CSE1303, CSC1030, FIT1015, FIT2085]\n",
       "1                                      []\n",
       "2                      [FIT1029, FIT1053]\n",
       "3                      [FIT1031, FIT2078]\n",
       "4                               [FIT1002]\n",
       "Name: 0, dtype: object"
      ]
     },
     "execution_count": 58,
     "metadata": {},
     "output_type": "execute_result"
    }
   ],
   "source": [
    "prohibition = unit_msia.rule.str.split('Prohibition', expand=True)[1]\n",
    "prohibition = prohibition.str.split('requisite', expand=True)[0]\n",
    "prohibition = prohibition.str.findall('[A-Z]{3}[0-9]{4}')\n",
    "prohibition[pd.isna(prohibition)] = \"[]\"\n",
    "prohibition.head()"
   ]
  },
  {
   "cell_type": "markdown",
   "metadata": {},
   "source": [
    "### Finalising the dataframe"
   ]
  },
  {
   "cell_type": "markdown",
   "metadata": {},
   "source": [
    "Append the cleaned rule columns to `unit_msia` and drop the original rule column."
   ]
  },
  {
   "cell_type": "code",
   "execution_count": 59,
   "metadata": {},
   "outputs": [],
   "source": [
    "unit_msia['prerequisite'] = prereq\n",
    "unit_msia['req_point'] = req_point\n",
    "unit_msia['prohibition'] = prohibition\n",
    "unit_msia = unit_msia.drop('rule', axis=1)"
   ]
  },
  {
   "cell_type": "markdown",
   "metadata": {},
   "source": [
    "Save `unit_msia` as csv file."
   ]
  },
  {
   "cell_type": "code",
   "execution_count": 60,
   "metadata": {},
   "outputs": [
    {
     "data": {
      "text/html": [
       "<div>\n",
       "<style scoped>\n",
       "    .dataframe tbody tr th:only-of-type {\n",
       "        vertical-align: middle;\n",
       "    }\n",
       "\n",
       "    .dataframe tbody tr th {\n",
       "        vertical-align: top;\n",
       "    }\n",
       "\n",
       "    .dataframe thead th {\n",
       "        text-align: right;\n",
       "    }\n",
       "</style>\n",
       "<table border=\"1\" class=\"dataframe\">\n",
       "  <thead>\n",
       "    <tr style=\"text-align: right;\">\n",
       "      <th></th>\n",
       "      <th>code</th>\n",
       "      <th>name</th>\n",
       "      <th>credit_points</th>\n",
       "      <th>prerequisite</th>\n",
       "      <th>req_point</th>\n",
       "      <th>prohibition</th>\n",
       "    </tr>\n",
       "  </thead>\n",
       "  <tbody>\n",
       "    <tr>\n",
       "      <th>0</th>\n",
       "      <td>FIT1008</td>\n",
       "      <td>Introduction to computer science</td>\n",
       "      <td>6</td>\n",
       "      <td>[[FIT1045, FIT1053]]</td>\n",
       "      <td>0</td>\n",
       "      <td>[CSE1303, CSC1030, FIT1015, FIT2085]</td>\n",
       "    </tr>\n",
       "    <tr>\n",
       "      <th>1</th>\n",
       "      <td>FIT1043</td>\n",
       "      <td>Introduction to data science</td>\n",
       "      <td>6</td>\n",
       "      <td>[]</td>\n",
       "      <td>0</td>\n",
       "      <td>[]</td>\n",
       "    </tr>\n",
       "    <tr>\n",
       "      <th>2</th>\n",
       "      <td>FIT1045</td>\n",
       "      <td>Algorithms and programming fundamentals in python</td>\n",
       "      <td>6</td>\n",
       "      <td>[]</td>\n",
       "      <td>0</td>\n",
       "      <td>[FIT1029, FIT1053]</td>\n",
       "    </tr>\n",
       "    <tr>\n",
       "      <th>3</th>\n",
       "      <td>FIT1047</td>\n",
       "      <td>Introduction to computer systems, networks and...</td>\n",
       "      <td>6</td>\n",
       "      <td>[]</td>\n",
       "      <td>0</td>\n",
       "      <td>[FIT1031, FIT2078]</td>\n",
       "    </tr>\n",
       "    <tr>\n",
       "      <th>4</th>\n",
       "      <td>FIT1051</td>\n",
       "      <td>Programming fundamentals in java</td>\n",
       "      <td>6</td>\n",
       "      <td>[]</td>\n",
       "      <td>0</td>\n",
       "      <td>[FIT1002]</td>\n",
       "    </tr>\n",
       "  </tbody>\n",
       "</table>\n",
       "</div>"
      ],
      "text/plain": [
       "      code                                               name  credit_points  \\\n",
       "0  FIT1008                   Introduction to computer science              6   \n",
       "1  FIT1043                       Introduction to data science              6   \n",
       "2  FIT1045  Algorithms and programming fundamentals in python              6   \n",
       "3  FIT1047  Introduction to computer systems, networks and...              6   \n",
       "4  FIT1051                   Programming fundamentals in java              6   \n",
       "\n",
       "           prerequisite req_point                           prohibition  \n",
       "0  [[FIT1045, FIT1053]]         0  [CSE1303, CSC1030, FIT1015, FIT2085]  \n",
       "1                    []         0                                    []  \n",
       "2                    []         0                    [FIT1029, FIT1053]  \n",
       "3                    []         0                    [FIT1031, FIT2078]  \n",
       "4                    []         0                             [FIT1002]  "
      ]
     },
     "execution_count": 60,
     "metadata": {},
     "output_type": "execute_result"
    }
   ],
   "source": [
    "unit_msia.to_csv(os.path.join(data_dir, 'fit_unit_msia.csv'), index=False)\n",
    "unit_msia.head()"
   ]
  }
 ],
 "metadata": {
  "kernelspec": {
   "display_name": "Python 3",
   "language": "python",
   "name": "python3"
  },
  "language_info": {
   "codemirror_mode": {
    "name": "ipython",
    "version": 3
   },
   "file_extension": ".py",
   "mimetype": "text/x-python",
   "name": "python",
   "nbconvert_exporter": "python",
   "pygments_lexer": "ipython3",
   "version": "3.7.7"
  }
 },
 "nbformat": 4,
 "nbformat_minor": 4
}
