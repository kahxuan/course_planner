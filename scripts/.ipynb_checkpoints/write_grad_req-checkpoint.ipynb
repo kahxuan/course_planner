{
 "cells": [
  {
   "cell_type": "markdown",
   "metadata": {},
   "source": [
    "# Write the requirements for C2001\n",
    "\n",
    "The requirements can be found at https://handbook.monash.edu/2020/courses/C2001."
   ]
  },
  {
   "cell_type": "code",
   "execution_count": 1,
   "metadata": {},
   "outputs": [],
   "source": [
    "import json\n",
    "import os\n",
    "import sys\n",
    "sys.path.append('..')\n",
    "from config import data_dir, chrome_driver_dir"
   ]
  },
  {
   "cell_type": "markdown",
   "metadata": {},
   "source": [
    "### Required credit points & core units"
   ]
  },
  {
   "cell_type": "code",
   "execution_count": 2,
   "metadata": {},
   "outputs": [],
   "source": [
    "req = {'credit_point': 144}\n",
    "\n",
    "req['core'] = ['FIT1008', \n",
    "               'FIT1045', \n",
    "               'FIT1047', \n",
    "               'FIT2004', \n",
    "               'FIT2014',\n",
    "               'MAT1830', \n",
    "               'MAT1841', \n",
    "               'FIT1055']"
   ]
  },
  {
   "cell_type": "markdown",
   "metadata": {},
   "source": [
    "### Specialisation requirements\n",
    "Student must complete one of the following specialisations:\n",
    "* Data science\n",
    "* Advanced computer science"
   ]
  },
  {
   "cell_type": "code",
   "execution_count": 3,
   "metadata": {},
   "outputs": [],
   "source": [
    "req['data_sc'] = {}\n",
    "\n",
    "req['data_sc']['core'] = ['FIT1043', \n",
    "                          'FIT2086', \n",
    "                          'FIT3171', \n",
    "                          'FIT3179', \n",
    "                          'FIT3163', \n",
    "                          'FIT3164']\n",
    "\n",
    "req['data_sc']['elective'] = ['FIT3152', \n",
    "                              'FIT3181', \n",
    "                              'FIT3182']\n",
    "\n",
    "req['data_sc']['elective_num'] = 2\n",
    "\n"
   ]
  },
  {
   "cell_type": "code",
   "execution_count": 4,
   "metadata": {},
   "outputs": [],
   "source": [
    "req['adv_cs'] = {}\n",
    "\n",
    "req['adv_cs']['core'] = ['FIT2099', \n",
    "                         'FIT2102', \n",
    "                         'FIT3143', \n",
    "                         'FIT3155', \n",
    "                         'FIT3161', \n",
    "                         'FIT3162']\n",
    "\n",
    "req['adv_cs']['elective'] = ['FIT3031', \n",
    "                             'FIT3077', \n",
    "                             'FIT3080', \n",
    "                             'FIT3081', \n",
    "                             'FIT3152', \n",
    "                             'FIT3159', \n",
    "                             'FIT3175', \n",
    "                             'FIT3181', \n",
    "                             'FIT3182']\n",
    "\n",
    "req['adv_cs']['elective_num'] = 1"
   ]
  },
  {
   "cell_type": "code",
   "execution_count": 5,
   "metadata": {
    "scrolled": false
   },
   "outputs": [
    {
     "data": {
      "text/plain": [
       "{'credit_point': 144,\n",
       " 'core': ['FIT1008',\n",
       "  'FIT1045',\n",
       "  'FIT1047',\n",
       "  'FIT2004',\n",
       "  'FIT2014',\n",
       "  'MAT1830',\n",
       "  'MAT1841',\n",
       "  'FIT1055'],\n",
       " 'data_sc': {'core': ['FIT1043',\n",
       "   'FIT2086',\n",
       "   'FIT3171',\n",
       "   'FIT3179',\n",
       "   'FIT3163',\n",
       "   'FIT3164'],\n",
       "  'elective': ['FIT3152', 'FIT3181', 'FIT3182'],\n",
       "  'elective_num': 2},\n",
       " 'adv_cs': {'core': ['FIT2099',\n",
       "   'FIT2102',\n",
       "   'FIT3143',\n",
       "   'FIT3155',\n",
       "   'FIT3161',\n",
       "   'FIT3162'],\n",
       "  'elective': ['FIT3031',\n",
       "   'FIT3077',\n",
       "   'FIT3080',\n",
       "   'FIT3081',\n",
       "   'FIT3152',\n",
       "   'FIT3159',\n",
       "   'FIT3175',\n",
       "   'FIT3181',\n",
       "   'FIT3182'],\n",
       "  'elective_num': 1}}"
      ]
     },
     "execution_count": 5,
     "metadata": {},
     "output_type": "execute_result"
    }
   ],
   "source": [
    "req"
   ]
  },
  {
   "cell_type": "code",
   "execution_count": 6,
   "metadata": {},
   "outputs": [],
   "source": [
    "with open(os.path.join(data_dir, 'grad_req.json'), 'w') as f:\n",
    "    json.dump(req, f, indent=4)"
   ]
  }
 ],
 "metadata": {
  "kernelspec": {
   "display_name": "Python 3",
   "language": "python",
   "name": "python3"
  },
  "language_info": {
   "codemirror_mode": {
    "name": "ipython",
    "version": 3
   },
   "file_extension": ".py",
   "mimetype": "text/x-python",
   "name": "python",
   "nbconvert_exporter": "python",
   "pygments_lexer": "ipython3",
   "version": "3.7.7"
  }
 },
 "nbformat": 4,
 "nbformat_minor": 4
}
